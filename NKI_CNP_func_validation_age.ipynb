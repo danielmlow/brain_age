{
 "cells": [
  {
   "cell_type": "markdown",
   "metadata": {},
   "source": [
    "# CNP_func_validation_age"
   ]
  },
  {
   "cell_type": "code",
   "execution_count": 3,
   "metadata": {},
   "outputs": [
    {
     "name": "stderr",
     "output_type": "stream",
     "text": [
      "/Library/Frameworks/Python.framework/Versions/3.6/lib/python3.6/importlib/_bootstrap.py:205: RuntimeWarning: numpy.dtype size changed, may indicate binary incompatibility. Expected 96, got 88\n",
      "  return f(*args, **kwds)\n",
      "/Library/Frameworks/Python.framework/Versions/3.6/lib/python3.6/site-packages/h5py/__init__.py:36: FutureWarning: Conversion of the second argument of issubdtype from `float` to `np.floating` is deprecated. In future, it will be treated as `np.float64 == np.dtype(float).type`.\n",
      "  from ._conv import register_converters as _register_converters\n"
     ]
    }
   ],
   "source": [
    "import pandas as pd\n",
    "import numpy as np\n",
    "import nibabel as nib\n",
    "from sklearn.svm import LinearSVR\n",
    "# from sklearn.linear_model import LinearRegression\n",
    "from sklearn.feature_selection import VarianceThreshold, SelectKBest, f_regression\n",
    "import os\n",
    "from sklearn.model_selection import train_test_split\n",
    "from sklearn.model_selection import GridSearchCV\n",
    "from sklearn.metrics import mean_absolute_error, r2_score\n",
    "from nilearn.input_data import NiftiMasker\n",
    "import random\n",
    "import matplotlib.pyplot as plt\n",
    "import datetime"
   ]
  },
  {
   "cell_type": "code",
   "execution_count": 4,
   "metadata": {
    "collapsed": true
   },
   "outputs": [],
   "source": [
    "# Config\n",
    "toy = False\n",
    "run_all = False\n",
    "\n",
    "\n",
    "\n",
    "#AWS cloud\n",
    "# path = '/home/ubuntu/fmriprep/'\n",
    "# output_dir = '/output/' \n",
    "\n",
    "#For Daniel's computer\n",
    "input_dir = 'data/CNP_func/'\n",
    "output_dir = 'data/CNP_T1/' \n",
    "\n",
    "\n",
    "n_jobs = 20 #amount of cores\n",
    "cv=4\n",
    "\n",
    "parcellation = '444'\n",
    "\n",
    "description = 'CNP_func_validation_age_'\n",
    "log_file = description+datetime.datetime.now().strftime(\"%y-%m-%d-%H-%M-%S\")"
   ]
  },
  {
   "cell_type": "code",
   "execution_count": null,
   "metadata": {
    "collapsed": true
   },
   "outputs": [],
   "source": []
  },
  {
   "cell_type": "code",
   "execution_count": 16,
   "metadata": {},
   "outputs": [
    {
     "name": "stdout",
     "output_type": "stream",
     "text": [
      "(84, 1, 98346)\n",
      "(84, 1, 98346)\n"
     ]
    },
    {
     "data": {
      "text/plain": [
       "(84, 98346)"
      ]
     },
     "execution_count": 16,
     "metadata": {},
     "output_type": "execute_result"
    }
   ],
   "source": [
    "# Load data\n",
    "input_dir = '/Users/danielmlow/Dropbox/neurohack/brain_age/data/CNP_func/'\n",
    "loaded = np.load(input_dir+'CNP_func_gridsearch_age_18-08-09-22-05-36CNP_func444_train_set.npz')\n",
    "X_train, y_train, random_subj_train = loaded['a'], loaded['b'], loaded['c']\n",
    "\n",
    "input_dir = '/Users/danielmlow/Dropbox/neurohack/brain_age/data/NKI_func/'\n",
    "loaded = np.load(input_dir+'NKI_func_gridsearch_age_18-08-10-19-07-24NKI_func444_train_set.npz')\n",
    "X_train_NKI, y_train_NKI, random_subj_train_NKI = loaded['a'], loaded['b'], loaded['c']\n",
    "\n",
    "print(X_train_NKI.shape)\n",
    "print(X_train.shape)\n",
    "X_train_NKI = np.reshape(X_train_NKI, (84, 98346))\n",
    "X_train = np.reshape(X_train, (84, 98346))\n",
    "X_train.shape"
   ]
  },
  {
   "cell_type": "code",
   "execution_count": 39,
   "metadata": {},
   "outputs": [
    {
     "name": "stdout",
     "output_type": "stream",
     "text": [
      "(84,)\n",
      "(84, 1, 98346)\n"
     ]
    }
   ],
   "source": [
    "print(y_train.shape)\n",
    "print(X_train.shape)\n",
    "X_train = np.reshape(X_train, (84, X_train.shape[2]))"
   ]
  },
  {
   "cell_type": "code",
   "execution_count": 40,
   "metadata": {
    "collapsed": true
   },
   "outputs": [],
   "source": [
    "# X_train, X_validation, y_train, y_validation = train_test_split(X_train, y_train, test_size=0.30, random_state=42)"
   ]
  },
  {
   "cell_type": "markdown",
   "metadata": {},
   "source": [
    "## Validation \n",
    "\n",
    "Grid search returned the best parameters:\n",
    "\n",
    "* ANOVA k selection: 'all'\n",
    "* C parameter of SVR: 1\n"
   ]
  },
  {
   "cell_type": "code",
   "execution_count": 41,
   "metadata": {},
   "outputs": [
    {
     "data": {
      "text/plain": [
       "(58, 98346)"
      ]
     },
     "execution_count": 41,
     "metadata": {},
     "output_type": "execute_result"
    }
   ],
   "source": [
    "X_train.shape"
   ]
  },
  {
   "cell_type": "code",
   "execution_count": 22,
   "metadata": {},
   "outputs": [],
   "source": [
    "from sklearn.pipeline import Pipeline\n",
    "\n",
    "if toy:\n",
    "    X_train = X_train[:8]\n",
    "    y_train = y_train[:8]\n",
    "    X_validation = X_validation[:8]\n",
    "    y_validation = y_validation[:8]\n",
    "\n",
    "\n",
    "# Remove features with too low between-subject variance\n",
    "# Here we use a classical univariate feature selection based on F-test,\n",
    "# namely Anova.\n",
    "# We have our predictor (SVR), our feature selection (SelectKBest), and now,\n",
    "# we can plug them together in a *pipeline* that performs the two operations\n",
    "# successively:\n",
    "               \n",
    "anova_svr = Pipeline([\n",
    "            ('anova', SelectKBest(f_regression, k='all')),\n",
    "            ('svr', LinearSVR(C=1.))])\n",
    "\n",
    "# parameters = [{'anova__k': [2000],\n",
    "#                'svr__C': [0.1,1]}]\n",
    "\n",
    "\n",
    "# anova_svr.fit(X_train, y_train)\n",
    "# predictions = anova_svr.predict(X_train_NKI)\n",
    "\n",
    "# score = mean_absolute_error(y_train_NKI, predictions)\n",
    "# r2 = r2_score(y_train_NKI, predictions)\n",
    "\n",
    "\n",
    "\n",
    "# =======\n",
    "anova_svr.fit(X_train_NKI, y_train_NKI)\n",
    "predictions = anova_svr.predict(X_train)\n",
    "\n",
    "score = mean_absolute_error(y_train, predictions)\n",
    "r2 = r2_score(y_train, predictions)\n",
    "\n",
    "\n",
    "\n"
   ]
  },
  {
   "cell_type": "code",
   "execution_count": 23,
   "metadata": {},
   "outputs": [
    {
     "name": "stdout",
     "output_type": "stream",
     "text": [
      "9.602909911288034\n",
      "-1.072453263378513\n",
      "[18.15949995 25.07796494 25.41099701 26.71632344 27.49406321 25.18506327\n",
      " 34.17460763 19.47976179 25.60742506 31.19455168 24.08271234 11.37024104\n",
      " 21.26987546 16.88477018 26.84553845 23.85160133 31.0520572  13.23991424\n",
      " 27.49507415 31.61648135 31.4260102  18.41116334 13.89424139 27.17351961\n",
      " 26.07366819 25.8943376  19.85674136 26.95980391 18.54842692 33.05655099\n",
      " 16.8500166  34.01535418 33.8425835  14.81359688 16.71590723 21.04135276\n",
      " 18.32398083 35.94831468 24.1530108  15.85339597 24.56331227 35.56175048\n",
      " 32.02003304 16.23969985 14.20854712 32.20229463 31.82596375 17.97581115\n",
      " 24.20918718 24.26765863 28.2619019  18.05448914 24.06668956 15.48025428\n",
      " 21.99080739 35.01547017 24.59500034 19.78662241 22.91559101 20.83674428\n",
      " 24.38226132 19.25588164 18.26724058 30.84896311 20.01331805 23.7884209\n",
      " 23.40639516 25.98307914 23.4628912  20.69277975 22.14535265 32.0638656\n",
      " 24.99883092 27.68392423 26.58772885 40.11917018 20.60294825 17.40688652\n",
      " 28.28375755 11.71101174 23.2285145  20.75727826 21.5162598  30.99501924]\n",
      "[ 9 29 12 13 13 67 51 28 31 22 30 20 14 46 26 24 13 67 29 71 28 27 75 14\n",
      " 23 32 41 33 19 11 26  8 47 50 46 85 32 16 16 40 53 13 60 54  8 15 64 53\n",
      " 47 43 81 12 21 15 60 37 17 24 44 78 38 55 28 45 34 22 24 47 20 63 55 77\n",
      " 14 46 23 47 21 20  7 37 76 46 18 43]\n"
     ]
    }
   ],
   "source": [
    "print(score)\n",
    "print(r2)\n",
    "print(predictions)\n",
    "print(y_train_NKI)"
   ]
  },
  {
   "cell_type": "code",
   "execution_count": 46,
   "metadata": {
    "collapsed": true
   },
   "outputs": [],
   "source": [
    "# print('best score: ',grid.best_score_)\n",
    "# print('best params: ',grid.best_params_)\n",
    "# print('\\n\\nfullresults: \\n', grid.cv_results_)\n",
    "# df1 = pd.DataFrame(grid.cv_results_)\n",
    "# df1"
   ]
  },
  {
   "cell_type": "code",
   "execution_count": 47,
   "metadata": {
    "collapsed": true
   },
   "outputs": [],
   "source": [
    "\n",
    "\n",
    "with open(output_dir+'log_'+log_file+'.txt', '+a') as f:\n",
    "    f.write('mean absolute error: '+str(score.round(4))+'\\n')\n",
    "    f.write('r2: '+str(r2.round(4))+'\\n')\n",
    "    f.write(str(predictions)+'\\n')\n",
    "#     f.write('\\n\\nfullresults: \\n'+str(grid.cv_results_)+'\\n')\n",
    "#     f.write(str(df1)+'\\n')\n",
    "#     f.write(str(age_pred)+'\\n')\n",
    "#     f.write(str(y_train)+'\\n')\n",
    "#     f.write(str(mean_abs_error)+'\\n')\n",
    "    "
   ]
  },
  {
   "cell_type": "code",
   "execution_count": 48,
   "metadata": {},
   "outputs": [
    {
     "data": {
      "text/plain": [
       "-0.27706915864013837"
      ]
     },
     "execution_count": 48,
     "metadata": {},
     "output_type": "execute_result"
    }
   ],
   "source": [
    "r2"
   ]
  },
  {
   "cell_type": "code",
   "execution_count": null,
   "metadata": {
    "collapsed": true
   },
   "outputs": [],
   "source": [
    "# age_pred = grid.predict(gm_maps_masked)\n",
    "# np.mean(np.abs(age_pred-y_age))\n",
    "# y_age"
   ]
  },
  {
   "cell_type": "code",
   "execution_count": null,
   "metadata": {
    "collapsed": true
   },
   "outputs": [],
   "source": [
    "# r2 score"
   ]
  }
 ],
 "metadata": {
  "kernelspec": {
   "display_name": "Python 3",
   "language": "python",
   "name": "python3"
  },
  "language_info": {
   "codemirror_mode": {
    "name": "ipython",
    "version": 3
   },
   "file_extension": ".py",
   "mimetype": "text/x-python",
   "name": "python",
   "nbconvert_exporter": "python",
   "pygments_lexer": "ipython3",
   "version": "3.6.0"
  }
 },
 "nbformat": 4,
 "nbformat_minor": 2
}
