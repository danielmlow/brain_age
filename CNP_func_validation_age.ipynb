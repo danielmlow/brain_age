{
 "cells": [
  {
   "cell_type": "markdown",
   "metadata": {},
   "source": [
    "# CNP_func_validation_age"
   ]
  },
  {
   "cell_type": "code",
   "execution_count": 23,
   "metadata": {},
   "outputs": [],
   "source": [
    "import pandas as pd\n",
    "import numpy as np\n",
    "import nibabel as nib\n",
    "from sklearn.svm import LinearSVR\n",
    "# from sklearn.linear_model import LinearRegression\n",
    "from sklearn.feature_selection import VarianceThreshold, SelectKBest, f_regression\n",
    "import os\n",
    "from sklearn.model_selection import train_test_split\n",
    "from sklearn.model_selection import GridSearchCV\n",
    "from sklearn.metrics import mean_absolute_error, r2_score\n",
    "from nilearn.input_data import NiftiMasker\n",
    "import random\n",
    "import matplotlib.pyplot as plt\n",
    "import datetime"
   ]
  },
  {
   "cell_type": "code",
   "execution_count": 37,
   "metadata": {},
   "outputs": [],
   "source": [
    "# Config\n",
    "toy = False\n",
    "run_all = False\n",
    "\n",
    "\n",
    "\n",
    "#AWS cloud\n",
    "# path = '/home/ubuntu/fmriprep/'\n",
    "# output_dir = '/output/' \n",
    "\n",
    "#For Daniel's computer\n",
    "input_dir = 'data/CNP_func/'\n",
    "output_dir = 'data/CNP_T1/' \n",
    "\n",
    "\n",
    "n_jobs = 20 #amount of cores\n",
    "cv=4\n",
    "\n",
    "parcellation = '444'\n",
    "\n",
    "description = 'CNP_func_validation_age_'\n",
    "log_file = description+datetime.datetime.now().strftime(\"%y-%m-%d-%H-%M-%S\")"
   ]
  },
  {
   "cell_type": "code",
   "execution_count": 38,
   "metadata": {},
   "outputs": [],
   "source": [
    "# Load data\n",
    "loaded = np.load(input_dir+'CNP_func_gridsearch_age_18-08-09-22-05-36CNP_func'+parcellation+'_train_set.npz')\n",
    "X_train, y_train, random_subj_train = loaded['a'], loaded['b'], loaded['c']"
   ]
  },
  {
   "cell_type": "code",
   "execution_count": 39,
   "metadata": {},
   "outputs": [
    {
     "name": "stdout",
     "output_type": "stream",
     "text": [
      "(84,)\n",
      "(84, 1, 98346)\n"
     ]
    }
   ],
   "source": [
    "print(y_train.shape)\n",
    "print(X_train.shape)\n",
    "X_train = np.reshape(X_train, (84, X_train.shape[2]))"
   ]
  },
  {
   "cell_type": "code",
   "execution_count": 40,
   "metadata": {
    "collapsed": true
   },
   "outputs": [],
   "source": [
    "X_train, X_validation, y_train, y_validation = train_test_split(X_train, y_train, test_size=0.30, random_state=42)"
   ]
  },
  {
   "cell_type": "markdown",
   "metadata": {},
   "source": [
    "## Validation \n",
    "\n",
    "Grid search returned the best parameters:\n",
    "\n",
    "* ANOVA k selection: 'all'\n",
    "* C parameter of SVR: 1\n"
   ]
  },
  {
   "cell_type": "code",
   "execution_count": 41,
   "metadata": {},
   "outputs": [
    {
     "data": {
      "text/plain": [
       "(58, 98346)"
      ]
     },
     "execution_count": 41,
     "metadata": {},
     "output_type": "execute_result"
    }
   ],
   "source": [
    "X_train.shape"
   ]
  },
  {
   "cell_type": "code",
   "execution_count": 43,
   "metadata": {},
   "outputs": [],
   "source": [
    "from sklearn.pipeline import Pipeline\n",
    "\n",
    "if toy:\n",
    "    X_train = X_train[:8]\n",
    "    y_train = y_train[:8]\n",
    "    X_validation = X_validation[:8]\n",
    "    y_validation = y_validation[:8]\n",
    "\n",
    "\n",
    "# Remove features with too low between-subject variance\n",
    "# Here we use a classical univariate feature selection based on F-test,\n",
    "# namely Anova.\n",
    "# We have our predictor (SVR), our feature selection (SelectKBest), and now,\n",
    "# we can plug them together in a *pipeline* that performs the two operations\n",
    "# successively:\n",
    "               \n",
    "anova_svr = Pipeline([\n",
    "            ('anova', SelectKBest(f_regression, k='all')),\n",
    "            ('svr', LinearSVR(C=1.))])\n",
    "\n",
    "# parameters = [{'anova__k': [2000],\n",
    "#                'svr__C': [0.1,1]}]\n",
    "\n",
    "\n",
    "anova_svr.fit(X_train, y_train)\n",
    "predictions = anova_svr.predict(X_validation)\n",
    "\n",
    "# clf = SVR(kernel='linear', C=0.01)\n",
    "# clf.fit(X_train, y_train)\n",
    "# predictions = clf.predict(X_validation)\n",
    "\n",
    "\n",
    "\n",
    "score = mean_absolute_error(y_validation, predictions)\n",
    "r2 = r2_score(y_validation, predictions)\n",
    "# mean_scores = np.array(grid.cv_results_['neg_mean_absolute_error'])\n",
    "# mean_scores = mean_scores.reshape(len(C_OPTIONS), -1, len(N_FEATURES_OPTIONS))\n",
    "# # select score for best C\n",
    "# mean_scores = mean_scores.max(axis=0)\n",
    "# bar_offsets = (np.arange(len(N_FEATURES_OPTIONS)) *\n",
    "#                (len(reducer_labels) + 1) + .5)\n",
    "\n",
    "\n",
    "\n",
    "\n"
   ]
  },
  {
   "cell_type": "code",
   "execution_count": 45,
   "metadata": {},
   "outputs": [
    {
     "name": "stdout",
     "output_type": "stream",
     "text": [
      "6.382342594339007\n",
      "[30.81325851 26.03452791 31.42972712 26.83977765 32.81079145 31.8646006\n",
      " 30.1627071  35.90164305 23.73649735 32.51839141 30.6036088  23.73541716\n",
      " 26.81080994 30.56967795 34.7209717  35.98615299 28.65561503 31.89597547\n",
      " 29.43347504 30.27372227 30.15936703 25.00568139 27.19646462 27.03507136\n",
      " 29.90209371 26.12426744]\n",
      "[25 29 40 40 23 26 22 36 29 30 32 23 25 24 35 22 31 48 37 28 41 39 35 23\n",
      " 32 38]\n"
     ]
    }
   ],
   "source": [
    "print(score)\n",
    "print(predictions)\n",
    "print(y_validation)"
   ]
  },
  {
   "cell_type": "code",
   "execution_count": 46,
   "metadata": {},
   "outputs": [],
   "source": [
    "# print('best score: ',grid.best_score_)\n",
    "# print('best params: ',grid.best_params_)\n",
    "# print('\\n\\nfullresults: \\n', grid.cv_results_)\n",
    "# df1 = pd.DataFrame(grid.cv_results_)\n",
    "# df1"
   ]
  },
  {
   "cell_type": "code",
   "execution_count": 47,
   "metadata": {},
   "outputs": [],
   "source": [
    "\n",
    "\n",
    "with open(output_dir+'log_'+log_file+'.txt', '+a') as f:\n",
    "    f.write('mean absolute error: '+str(score.round(4))+'\\n')\n",
    "    f.write('r2: '+str(r2.round(4))+'\\n')\n",
    "    f.write(str(predictions)+'\\n')\n",
    "#     f.write('\\n\\nfullresults: \\n'+str(grid.cv_results_)+'\\n')\n",
    "#     f.write(str(df1)+'\\n')\n",
    "#     f.write(str(age_pred)+'\\n')\n",
    "#     f.write(str(y_train)+'\\n')\n",
    "#     f.write(str(mean_abs_error)+'\\n')\n",
    "    "
   ]
  },
  {
   "cell_type": "code",
   "execution_count": 48,
   "metadata": {},
   "outputs": [
    {
     "data": {
      "text/plain": [
       "-0.27706915864013837"
      ]
     },
     "execution_count": 48,
     "metadata": {},
     "output_type": "execute_result"
    }
   ],
   "source": [
    "r2"
   ]
  },
  {
   "cell_type": "code",
   "execution_count": null,
   "metadata": {
    "collapsed": true
   },
   "outputs": [],
   "source": [
    "# age_pred = grid.predict(gm_maps_masked)\n",
    "# np.mean(np.abs(age_pred-y_age))\n",
    "# y_age"
   ]
  },
  {
   "cell_type": "code",
   "execution_count": null,
   "metadata": {
    "collapsed": true
   },
   "outputs": [],
   "source": [
    "# r2 score"
   ]
  }
 ],
 "metadata": {
  "kernelspec": {
   "display_name": "Python 3",
   "language": "python",
   "name": "python3"
  },
  "language_info": {
   "codemirror_mode": {
    "name": "ipython",
    "version": 3
   },
   "file_extension": ".py",
   "mimetype": "text/x-python",
   "name": "python",
   "nbconvert_exporter": "python",
   "pygments_lexer": "ipython3",
   "version": "3.6.0"
  }
 },
 "nbformat": 4,
 "nbformat_minor": 2
}
