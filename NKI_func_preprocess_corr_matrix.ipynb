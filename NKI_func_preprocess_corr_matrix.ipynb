{
 "cells": [
  {
   "cell_type": "code",
   "execution_count": 9,
   "metadata": {},
   "outputs": [],
   "source": [
    "import pandas as pd\n",
    "import numpy as np\n",
    "import nibabel as nib\n",
    "import datetime\n",
    "import os"
   ]
  },
  {
   "cell_type": "code",
   "execution_count": 5,
   "metadata": {},
   "outputs": [],
   "source": [
    "# Parameters\n",
    "toy = False\n",
    "run_all = True\n",
    "path = '/home/ubuntu/NKI/'\n",
    "output_dir = '../output/'\n",
    "input_dir = '/home/ubuntu/subj_info/'\n",
    "\n",
    "n_jobs = 20 #amount of cores\n",
    "cv=4\n",
    "description = 'NKI_func_gridsearch_age_'\n",
    "log_file = description+datetime.datetime.now().strftime(\"%y-%m-%d-%H-%M-%S\")"
   ]
  },
  {
   "cell_type": "code",
   "execution_count": 6,
   "metadata": {},
   "outputs": [
    {
     "data": {
      "text/plain": [
       "'CNP_func_gridsearch_age_18-08-09-22-50-26'"
      ]
     },
     "execution_count": 6,
     "metadata": {},
     "output_type": "execute_result"
    }
   ],
   "source": [
    "log_file"
   ]
  },
  {
   "cell_type": "code",
   "execution_count": 7,
   "metadata": {},
   "outputs": [
    {
     "ename": "FileNotFoundError",
     "evalue": "[Errno 2] No such file or directory: '/home/ubuntu/fmriprep/'",
     "output_type": "error",
     "traceback": [
      "\u001b[0;31m---------------------------------------------------------------------------\u001b[0m",
      "\u001b[0;31mFileNotFoundError\u001b[0m                         Traceback (most recent call last)",
      "\u001b[0;32m<ipython-input-7-52c1e29d6651>\u001b[0m in \u001b[0;36m<module>\u001b[0;34m()\u001b[0m\n\u001b[1;32m      1\u001b[0m \u001b[0;31m# Load subject ids\u001b[0m\u001b[0;34m\u001b[0m\u001b[0;34m\u001b[0m\u001b[0m\n\u001b[1;32m      2\u001b[0m \u001b[0;32mif\u001b[0m \u001b[0mrun_all\u001b[0m\u001b[0;34m:\u001b[0m\u001b[0;34m\u001b[0m\u001b[0m\n\u001b[0;32m----> 3\u001b[0;31m     \u001b[0mfiles\u001b[0m \u001b[0;34m=\u001b[0m \u001b[0mos\u001b[0m\u001b[0;34m.\u001b[0m\u001b[0mlistdir\u001b[0m\u001b[0;34m(\u001b[0m\u001b[0mpath\u001b[0m\u001b[0;34m)\u001b[0m\u001b[0;34m\u001b[0m\u001b[0m\n\u001b[0m\u001b[1;32m      4\u001b[0m     \u001b[0msubj\u001b[0m \u001b[0;34m=\u001b[0m \u001b[0;34m[\u001b[0m\u001b[0mn\u001b[0m\u001b[0;34m[\u001b[0m\u001b[0;36m4\u001b[0m\u001b[0;34m:\u001b[0m\u001b[0;36m9\u001b[0m\u001b[0;34m]\u001b[0m \u001b[0;32mfor\u001b[0m \u001b[0mn\u001b[0m \u001b[0;32min\u001b[0m \u001b[0mfiles\u001b[0m \u001b[0;32mif\u001b[0m \u001b[0mn\u001b[0m\u001b[0;34m.\u001b[0m\u001b[0mstartswith\u001b[0m\u001b[0;34m(\u001b[0m\u001b[0;34m'sub'\u001b[0m\u001b[0;34m)\u001b[0m\u001b[0;34m]\u001b[0m \u001b[0;31m#here we will filter the file names to leave only subj number as bellow\u001b[0m\u001b[0;34m\u001b[0m\u001b[0m\n\u001b[1;32m      5\u001b[0m \u001b[0;34m\u001b[0m\u001b[0m\n",
      "\u001b[0;31mFileNotFoundError\u001b[0m: [Errno 2] No such file or directory: '/home/ubuntu/fmriprep/'"
     ]
    }
   ],
   "source": [
    "# Load subject ids\n",
    "if run_all:\n",
    "    files = os.listdir(path)\n",
    "    subj = [for n in files] #here we will filter the file names to leave only subj number as bellow\n",
    "\n",
    "    file = 'subjnames.txt'\n",
    "    with open(input_dir+file, 'r') as f:\n",
    "        lines = f.readlines()\n",
    "        \n",
    "\n",
    "# #np.load(/home/ubuntu/brain_age/drsulliv3/)\n",
    "# # This was done once before on the T1. This order was randomized. \n",
    "# subj =  ['10672', '10940', '10361', '10719', '11112', '10356', '11106',\n",
    "#               '11030', '10340', '10570', '10329', '10871', '10746', '10325',\n",
    "#               '10987', '10724', '11105', '10492', '10429', '10565', '10977',\n",
    "#               '10316', '10460', '10678', '10704', '11143', '11067', '10274',\n",
    "#               '10304', '10696', '11098', '10998', '10455', '10629', '10963',\n",
    "#               '10345', '11019', '10271', '11108', '10225', '11149', '11050',\n",
    "#               '10448', '10680', '11068', '11104', '10388', '10530', '10206',\n",
    "#               '10692', '10438', '10228', '10762', '10708', '10235', '10788',\n",
    "#               '10527', '10631', '11044', '10844', '10517', '11090', '10377',\n",
    "#               '10934', '10575', '10471', '10159', '10189', '10779', '10949',\n",
    "#               '11052', '11059', '10280', '11156', '11077', '10975', '10290',\n",
    "#               '10557', '11066', '10686', '10891', '10525', '11061', '10321',\n",
    "#               '10697', '10668', '10171', '11122', '10217', '10785', '10339',\n",
    "#               '10523', '10506', '10347', '10707', '11062', '10958', '10376',\n",
    "#               '10893', '10440', '10968', '10365', '10292', '11142', '10478',\n",
    "#               '11088', '10912', '10855', '10487', '10273', '11097', '10638',\n",
    "#               '11131', '10227', '10269', '10882', '10877', '10524', '10624',\n",
    "#               '10249', '11128', '10674']\n"
   ]
  },
  {
   "cell_type": "code",
   "execution_count": 8,
   "metadata": {},
   "outputs": [
    {
     "ename": "NameError",
     "evalue": "name 'subj' is not defined",
     "output_type": "error",
     "traceback": [
      "\u001b[0;31m---------------------------------------------------------------------------\u001b[0m",
      "\u001b[0;31mNameError\u001b[0m                                 Traceback (most recent call last)",
      "\u001b[0;32m<ipython-input-8-f3b0ad000b89>\u001b[0m in \u001b[0;36m<module>\u001b[0;34m()\u001b[0m\n\u001b[0;32m----> 1\u001b[0;31m \u001b[0mlen\u001b[0m\u001b[0;34m(\u001b[0m\u001b[0msubj\u001b[0m\u001b[0;34m)\u001b[0m\u001b[0;34m\u001b[0m\u001b[0m\n\u001b[0m",
      "\u001b[0;31mNameError\u001b[0m: name 'subj' is not defined"
     ]
    }
   ],
   "source": [
    "len(subj)"
   ]
  },
  {
   "cell_type": "code",
   "execution_count": 12,
   "metadata": {},
   "outputs": [],
   "source": [
    "# Load ages\n",
    "df = pd.read_csv('NKI_ages.csv', sep='\\t')\n",
    "\n",
    "# take age from subj id\n",
    "y_age = []\n",
    "for i in subj:\n",
    "    #a = df.loc[df['participant_id'] == 'sub-'+i] #whole row\n",
    "    a = df.loc[df['participant_id'] #whole row\n",
    "    y_age.append(int(a.age))\n"
   ]
  },
  {
   "cell_type": "code",
   "execution_count": 14,
   "metadata": {},
   "outputs": [
    {
     "data": {
      "text/plain": [
       "122"
      ]
     },
     "execution_count": 14,
     "metadata": {},
     "output_type": "execute_result"
    }
   ],
   "source": [
    "len(y_age)"
   ]
  },
  {
   "cell_type": "code",
   "execution_count": 6,
   "metadata": {},
   "outputs": [],
   "source": [
    "# Load volumes for each subject into a dictionary    \n",
    "if run_all:\n",
    "    filenames = []\n",
    "    for i in range(len(subj)):\n",
    "        #filenames.append(path+'sub-'+subj[i]+'/func/sub-'+subj[i]+'_task-rest_bold_space-MNI152NLin2009cAsym_preproc.nii.gz')\n",
    "        filenames.append(path+subj[i]+'/session_1/BOLDrestingCAP_1/wraBOLDrestingCAP.nii.gz')\n",
    "    #cofounds = []\n",
    "    #for i in range(len(subj)):\n",
    "        #cofounds.append(path+'sub-'+subj[i]+'/func/sub-'+subj[i]+'_task-rest_bold_confounds.tsv')\n",
    "\n"
   ]
  },
  {
   "cell_type": "code",
   "execution_count": 7,
   "metadata": {},
   "outputs": [
    {
     "data": {
      "text/plain": [
       "['/home/ubuntu/fmriprep/sub-10672/func/sub-10672_task-rest_bold_space-MNI152NLin2009cAsym_preproc.nii.gz',\n",
       " '/home/ubuntu/fmriprep/sub-10940/func/sub-10940_task-rest_bold_space-MNI152NLin2009cAsym_preproc.nii.gz',\n",
       " '/home/ubuntu/fmriprep/sub-10361/func/sub-10361_task-rest_bold_space-MNI152NLin2009cAsym_preproc.nii.gz',\n",
       " '/home/ubuntu/fmriprep/sub-10719/func/sub-10719_task-rest_bold_space-MNI152NLin2009cAsym_preproc.nii.gz',\n",
       " '/home/ubuntu/fmriprep/sub-11112/func/sub-11112_task-rest_bold_space-MNI152NLin2009cAsym_preproc.nii.gz',\n",
       " '/home/ubuntu/fmriprep/sub-10356/func/sub-10356_task-rest_bold_space-MNI152NLin2009cAsym_preproc.nii.gz',\n",
       " '/home/ubuntu/fmriprep/sub-11106/func/sub-11106_task-rest_bold_space-MNI152NLin2009cAsym_preproc.nii.gz',\n",
       " '/home/ubuntu/fmriprep/sub-11030/func/sub-11030_task-rest_bold_space-MNI152NLin2009cAsym_preproc.nii.gz',\n",
       " '/home/ubuntu/fmriprep/sub-10340/func/sub-10340_task-rest_bold_space-MNI152NLin2009cAsym_preproc.nii.gz',\n",
       " '/home/ubuntu/fmriprep/sub-10570/func/sub-10570_task-rest_bold_space-MNI152NLin2009cAsym_preproc.nii.gz',\n",
       " '/home/ubuntu/fmriprep/sub-10329/func/sub-10329_task-rest_bold_space-MNI152NLin2009cAsym_preproc.nii.gz',\n",
       " '/home/ubuntu/fmriprep/sub-10871/func/sub-10871_task-rest_bold_space-MNI152NLin2009cAsym_preproc.nii.gz',\n",
       " '/home/ubuntu/fmriprep/sub-10746/func/sub-10746_task-rest_bold_space-MNI152NLin2009cAsym_preproc.nii.gz',\n",
       " '/home/ubuntu/fmriprep/sub-10325/func/sub-10325_task-rest_bold_space-MNI152NLin2009cAsym_preproc.nii.gz',\n",
       " '/home/ubuntu/fmriprep/sub-10987/func/sub-10987_task-rest_bold_space-MNI152NLin2009cAsym_preproc.nii.gz',\n",
       " '/home/ubuntu/fmriprep/sub-10724/func/sub-10724_task-rest_bold_space-MNI152NLin2009cAsym_preproc.nii.gz',\n",
       " '/home/ubuntu/fmriprep/sub-11105/func/sub-11105_task-rest_bold_space-MNI152NLin2009cAsym_preproc.nii.gz',\n",
       " '/home/ubuntu/fmriprep/sub-10492/func/sub-10492_task-rest_bold_space-MNI152NLin2009cAsym_preproc.nii.gz',\n",
       " '/home/ubuntu/fmriprep/sub-10429/func/sub-10429_task-rest_bold_space-MNI152NLin2009cAsym_preproc.nii.gz',\n",
       " '/home/ubuntu/fmriprep/sub-10565/func/sub-10565_task-rest_bold_space-MNI152NLin2009cAsym_preproc.nii.gz',\n",
       " '/home/ubuntu/fmriprep/sub-10977/func/sub-10977_task-rest_bold_space-MNI152NLin2009cAsym_preproc.nii.gz',\n",
       " '/home/ubuntu/fmriprep/sub-10316/func/sub-10316_task-rest_bold_space-MNI152NLin2009cAsym_preproc.nii.gz',\n",
       " '/home/ubuntu/fmriprep/sub-10460/func/sub-10460_task-rest_bold_space-MNI152NLin2009cAsym_preproc.nii.gz',\n",
       " '/home/ubuntu/fmriprep/sub-10678/func/sub-10678_task-rest_bold_space-MNI152NLin2009cAsym_preproc.nii.gz',\n",
       " '/home/ubuntu/fmriprep/sub-10704/func/sub-10704_task-rest_bold_space-MNI152NLin2009cAsym_preproc.nii.gz',\n",
       " '/home/ubuntu/fmriprep/sub-11143/func/sub-11143_task-rest_bold_space-MNI152NLin2009cAsym_preproc.nii.gz',\n",
       " '/home/ubuntu/fmriprep/sub-11067/func/sub-11067_task-rest_bold_space-MNI152NLin2009cAsym_preproc.nii.gz',\n",
       " '/home/ubuntu/fmriprep/sub-10274/func/sub-10274_task-rest_bold_space-MNI152NLin2009cAsym_preproc.nii.gz',\n",
       " '/home/ubuntu/fmriprep/sub-10304/func/sub-10304_task-rest_bold_space-MNI152NLin2009cAsym_preproc.nii.gz',\n",
       " '/home/ubuntu/fmriprep/sub-10696/func/sub-10696_task-rest_bold_space-MNI152NLin2009cAsym_preproc.nii.gz',\n",
       " '/home/ubuntu/fmriprep/sub-11098/func/sub-11098_task-rest_bold_space-MNI152NLin2009cAsym_preproc.nii.gz',\n",
       " '/home/ubuntu/fmriprep/sub-10998/func/sub-10998_task-rest_bold_space-MNI152NLin2009cAsym_preproc.nii.gz',\n",
       " '/home/ubuntu/fmriprep/sub-10455/func/sub-10455_task-rest_bold_space-MNI152NLin2009cAsym_preproc.nii.gz',\n",
       " '/home/ubuntu/fmriprep/sub-10629/func/sub-10629_task-rest_bold_space-MNI152NLin2009cAsym_preproc.nii.gz',\n",
       " '/home/ubuntu/fmriprep/sub-10963/func/sub-10963_task-rest_bold_space-MNI152NLin2009cAsym_preproc.nii.gz',\n",
       " '/home/ubuntu/fmriprep/sub-10345/func/sub-10345_task-rest_bold_space-MNI152NLin2009cAsym_preproc.nii.gz',\n",
       " '/home/ubuntu/fmriprep/sub-11019/func/sub-11019_task-rest_bold_space-MNI152NLin2009cAsym_preproc.nii.gz',\n",
       " '/home/ubuntu/fmriprep/sub-10271/func/sub-10271_task-rest_bold_space-MNI152NLin2009cAsym_preproc.nii.gz',\n",
       " '/home/ubuntu/fmriprep/sub-11108/func/sub-11108_task-rest_bold_space-MNI152NLin2009cAsym_preproc.nii.gz',\n",
       " '/home/ubuntu/fmriprep/sub-10225/func/sub-10225_task-rest_bold_space-MNI152NLin2009cAsym_preproc.nii.gz',\n",
       " '/home/ubuntu/fmriprep/sub-11149/func/sub-11149_task-rest_bold_space-MNI152NLin2009cAsym_preproc.nii.gz',\n",
       " '/home/ubuntu/fmriprep/sub-11050/func/sub-11050_task-rest_bold_space-MNI152NLin2009cAsym_preproc.nii.gz',\n",
       " '/home/ubuntu/fmriprep/sub-10448/func/sub-10448_task-rest_bold_space-MNI152NLin2009cAsym_preproc.nii.gz',\n",
       " '/home/ubuntu/fmriprep/sub-10680/func/sub-10680_task-rest_bold_space-MNI152NLin2009cAsym_preproc.nii.gz',\n",
       " '/home/ubuntu/fmriprep/sub-11068/func/sub-11068_task-rest_bold_space-MNI152NLin2009cAsym_preproc.nii.gz',\n",
       " '/home/ubuntu/fmriprep/sub-11104/func/sub-11104_task-rest_bold_space-MNI152NLin2009cAsym_preproc.nii.gz',\n",
       " '/home/ubuntu/fmriprep/sub-10388/func/sub-10388_task-rest_bold_space-MNI152NLin2009cAsym_preproc.nii.gz',\n",
       " '/home/ubuntu/fmriprep/sub-10530/func/sub-10530_task-rest_bold_space-MNI152NLin2009cAsym_preproc.nii.gz',\n",
       " '/home/ubuntu/fmriprep/sub-10206/func/sub-10206_task-rest_bold_space-MNI152NLin2009cAsym_preproc.nii.gz',\n",
       " '/home/ubuntu/fmriprep/sub-10692/func/sub-10692_task-rest_bold_space-MNI152NLin2009cAsym_preproc.nii.gz',\n",
       " '/home/ubuntu/fmriprep/sub-10438/func/sub-10438_task-rest_bold_space-MNI152NLin2009cAsym_preproc.nii.gz',\n",
       " '/home/ubuntu/fmriprep/sub-10228/func/sub-10228_task-rest_bold_space-MNI152NLin2009cAsym_preproc.nii.gz',\n",
       " '/home/ubuntu/fmriprep/sub-10762/func/sub-10762_task-rest_bold_space-MNI152NLin2009cAsym_preproc.nii.gz',\n",
       " '/home/ubuntu/fmriprep/sub-10708/func/sub-10708_task-rest_bold_space-MNI152NLin2009cAsym_preproc.nii.gz',\n",
       " '/home/ubuntu/fmriprep/sub-10235/func/sub-10235_task-rest_bold_space-MNI152NLin2009cAsym_preproc.nii.gz',\n",
       " '/home/ubuntu/fmriprep/sub-10788/func/sub-10788_task-rest_bold_space-MNI152NLin2009cAsym_preproc.nii.gz',\n",
       " '/home/ubuntu/fmriprep/sub-10527/func/sub-10527_task-rest_bold_space-MNI152NLin2009cAsym_preproc.nii.gz',\n",
       " '/home/ubuntu/fmriprep/sub-10631/func/sub-10631_task-rest_bold_space-MNI152NLin2009cAsym_preproc.nii.gz',\n",
       " '/home/ubuntu/fmriprep/sub-11044/func/sub-11044_task-rest_bold_space-MNI152NLin2009cAsym_preproc.nii.gz',\n",
       " '/home/ubuntu/fmriprep/sub-10844/func/sub-10844_task-rest_bold_space-MNI152NLin2009cAsym_preproc.nii.gz',\n",
       " '/home/ubuntu/fmriprep/sub-10517/func/sub-10517_task-rest_bold_space-MNI152NLin2009cAsym_preproc.nii.gz',\n",
       " '/home/ubuntu/fmriprep/sub-11090/func/sub-11090_task-rest_bold_space-MNI152NLin2009cAsym_preproc.nii.gz',\n",
       " '/home/ubuntu/fmriprep/sub-10377/func/sub-10377_task-rest_bold_space-MNI152NLin2009cAsym_preproc.nii.gz',\n",
       " '/home/ubuntu/fmriprep/sub-10934/func/sub-10934_task-rest_bold_space-MNI152NLin2009cAsym_preproc.nii.gz',\n",
       " '/home/ubuntu/fmriprep/sub-10575/func/sub-10575_task-rest_bold_space-MNI152NLin2009cAsym_preproc.nii.gz',\n",
       " '/home/ubuntu/fmriprep/sub-10471/func/sub-10471_task-rest_bold_space-MNI152NLin2009cAsym_preproc.nii.gz',\n",
       " '/home/ubuntu/fmriprep/sub-10159/func/sub-10159_task-rest_bold_space-MNI152NLin2009cAsym_preproc.nii.gz',\n",
       " '/home/ubuntu/fmriprep/sub-10189/func/sub-10189_task-rest_bold_space-MNI152NLin2009cAsym_preproc.nii.gz',\n",
       " '/home/ubuntu/fmriprep/sub-10779/func/sub-10779_task-rest_bold_space-MNI152NLin2009cAsym_preproc.nii.gz',\n",
       " '/home/ubuntu/fmriprep/sub-10949/func/sub-10949_task-rest_bold_space-MNI152NLin2009cAsym_preproc.nii.gz',\n",
       " '/home/ubuntu/fmriprep/sub-11052/func/sub-11052_task-rest_bold_space-MNI152NLin2009cAsym_preproc.nii.gz',\n",
       " '/home/ubuntu/fmriprep/sub-11059/func/sub-11059_task-rest_bold_space-MNI152NLin2009cAsym_preproc.nii.gz',\n",
       " '/home/ubuntu/fmriprep/sub-10280/func/sub-10280_task-rest_bold_space-MNI152NLin2009cAsym_preproc.nii.gz',\n",
       " '/home/ubuntu/fmriprep/sub-11156/func/sub-11156_task-rest_bold_space-MNI152NLin2009cAsym_preproc.nii.gz',\n",
       " '/home/ubuntu/fmriprep/sub-11077/func/sub-11077_task-rest_bold_space-MNI152NLin2009cAsym_preproc.nii.gz',\n",
       " '/home/ubuntu/fmriprep/sub-10975/func/sub-10975_task-rest_bold_space-MNI152NLin2009cAsym_preproc.nii.gz',\n",
       " '/home/ubuntu/fmriprep/sub-10290/func/sub-10290_task-rest_bold_space-MNI152NLin2009cAsym_preproc.nii.gz',\n",
       " '/home/ubuntu/fmriprep/sub-10557/func/sub-10557_task-rest_bold_space-MNI152NLin2009cAsym_preproc.nii.gz',\n",
       " '/home/ubuntu/fmriprep/sub-11066/func/sub-11066_task-rest_bold_space-MNI152NLin2009cAsym_preproc.nii.gz',\n",
       " '/home/ubuntu/fmriprep/sub-10686/func/sub-10686_task-rest_bold_space-MNI152NLin2009cAsym_preproc.nii.gz',\n",
       " '/home/ubuntu/fmriprep/sub-10891/func/sub-10891_task-rest_bold_space-MNI152NLin2009cAsym_preproc.nii.gz',\n",
       " '/home/ubuntu/fmriprep/sub-10525/func/sub-10525_task-rest_bold_space-MNI152NLin2009cAsym_preproc.nii.gz',\n",
       " '/home/ubuntu/fmriprep/sub-11061/func/sub-11061_task-rest_bold_space-MNI152NLin2009cAsym_preproc.nii.gz',\n",
       " '/home/ubuntu/fmriprep/sub-10321/func/sub-10321_task-rest_bold_space-MNI152NLin2009cAsym_preproc.nii.gz',\n",
       " '/home/ubuntu/fmriprep/sub-10697/func/sub-10697_task-rest_bold_space-MNI152NLin2009cAsym_preproc.nii.gz',\n",
       " '/home/ubuntu/fmriprep/sub-10668/func/sub-10668_task-rest_bold_space-MNI152NLin2009cAsym_preproc.nii.gz',\n",
       " '/home/ubuntu/fmriprep/sub-10171/func/sub-10171_task-rest_bold_space-MNI152NLin2009cAsym_preproc.nii.gz',\n",
       " '/home/ubuntu/fmriprep/sub-11122/func/sub-11122_task-rest_bold_space-MNI152NLin2009cAsym_preproc.nii.gz',\n",
       " '/home/ubuntu/fmriprep/sub-10217/func/sub-10217_task-rest_bold_space-MNI152NLin2009cAsym_preproc.nii.gz',\n",
       " '/home/ubuntu/fmriprep/sub-10785/func/sub-10785_task-rest_bold_space-MNI152NLin2009cAsym_preproc.nii.gz',\n",
       " '/home/ubuntu/fmriprep/sub-10339/func/sub-10339_task-rest_bold_space-MNI152NLin2009cAsym_preproc.nii.gz',\n",
       " '/home/ubuntu/fmriprep/sub-10523/func/sub-10523_task-rest_bold_space-MNI152NLin2009cAsym_preproc.nii.gz',\n",
       " '/home/ubuntu/fmriprep/sub-10506/func/sub-10506_task-rest_bold_space-MNI152NLin2009cAsym_preproc.nii.gz',\n",
       " '/home/ubuntu/fmriprep/sub-10347/func/sub-10347_task-rest_bold_space-MNI152NLin2009cAsym_preproc.nii.gz',\n",
       " '/home/ubuntu/fmriprep/sub-10707/func/sub-10707_task-rest_bold_space-MNI152NLin2009cAsym_preproc.nii.gz',\n",
       " '/home/ubuntu/fmriprep/sub-11062/func/sub-11062_task-rest_bold_space-MNI152NLin2009cAsym_preproc.nii.gz',\n",
       " '/home/ubuntu/fmriprep/sub-10958/func/sub-10958_task-rest_bold_space-MNI152NLin2009cAsym_preproc.nii.gz',\n",
       " '/home/ubuntu/fmriprep/sub-10376/func/sub-10376_task-rest_bold_space-MNI152NLin2009cAsym_preproc.nii.gz',\n",
       " '/home/ubuntu/fmriprep/sub-10893/func/sub-10893_task-rest_bold_space-MNI152NLin2009cAsym_preproc.nii.gz',\n",
       " '/home/ubuntu/fmriprep/sub-10440/func/sub-10440_task-rest_bold_space-MNI152NLin2009cAsym_preproc.nii.gz',\n",
       " '/home/ubuntu/fmriprep/sub-10968/func/sub-10968_task-rest_bold_space-MNI152NLin2009cAsym_preproc.nii.gz',\n",
       " '/home/ubuntu/fmriprep/sub-10365/func/sub-10365_task-rest_bold_space-MNI152NLin2009cAsym_preproc.nii.gz',\n",
       " '/home/ubuntu/fmriprep/sub-10292/func/sub-10292_task-rest_bold_space-MNI152NLin2009cAsym_preproc.nii.gz',\n",
       " '/home/ubuntu/fmriprep/sub-11142/func/sub-11142_task-rest_bold_space-MNI152NLin2009cAsym_preproc.nii.gz',\n",
       " '/home/ubuntu/fmriprep/sub-10478/func/sub-10478_task-rest_bold_space-MNI152NLin2009cAsym_preproc.nii.gz',\n",
       " '/home/ubuntu/fmriprep/sub-11088/func/sub-11088_task-rest_bold_space-MNI152NLin2009cAsym_preproc.nii.gz',\n",
       " '/home/ubuntu/fmriprep/sub-10912/func/sub-10912_task-rest_bold_space-MNI152NLin2009cAsym_preproc.nii.gz',\n",
       " '/home/ubuntu/fmriprep/sub-10855/func/sub-10855_task-rest_bold_space-MNI152NLin2009cAsym_preproc.nii.gz',\n",
       " '/home/ubuntu/fmriprep/sub-10487/func/sub-10487_task-rest_bold_space-MNI152NLin2009cAsym_preproc.nii.gz',\n",
       " '/home/ubuntu/fmriprep/sub-10273/func/sub-10273_task-rest_bold_space-MNI152NLin2009cAsym_preproc.nii.gz',\n",
       " '/home/ubuntu/fmriprep/sub-11097/func/sub-11097_task-rest_bold_space-MNI152NLin2009cAsym_preproc.nii.gz',\n",
       " '/home/ubuntu/fmriprep/sub-10638/func/sub-10638_task-rest_bold_space-MNI152NLin2009cAsym_preproc.nii.gz',\n",
       " '/home/ubuntu/fmriprep/sub-11131/func/sub-11131_task-rest_bold_space-MNI152NLin2009cAsym_preproc.nii.gz',\n",
       " '/home/ubuntu/fmriprep/sub-10227/func/sub-10227_task-rest_bold_space-MNI152NLin2009cAsym_preproc.nii.gz',\n",
       " '/home/ubuntu/fmriprep/sub-10269/func/sub-10269_task-rest_bold_space-MNI152NLin2009cAsym_preproc.nii.gz',\n",
       " '/home/ubuntu/fmriprep/sub-10882/func/sub-10882_task-rest_bold_space-MNI152NLin2009cAsym_preproc.nii.gz',\n",
       " '/home/ubuntu/fmriprep/sub-10877/func/sub-10877_task-rest_bold_space-MNI152NLin2009cAsym_preproc.nii.gz',\n",
       " '/home/ubuntu/fmriprep/sub-10524/func/sub-10524_task-rest_bold_space-MNI152NLin2009cAsym_preproc.nii.gz',\n",
       " '/home/ubuntu/fmriprep/sub-10624/func/sub-10624_task-rest_bold_space-MNI152NLin2009cAsym_preproc.nii.gz',\n",
       " '/home/ubuntu/fmriprep/sub-10249/func/sub-10249_task-rest_bold_space-MNI152NLin2009cAsym_preproc.nii.gz',\n",
       " '/home/ubuntu/fmriprep/sub-11128/func/sub-11128_task-rest_bold_space-MNI152NLin2009cAsym_preproc.nii.gz',\n",
       " '/home/ubuntu/fmriprep/sub-10674/func/sub-10674_task-rest_bold_space-MNI152NLin2009cAsym_preproc.nii.gz']"
      ]
     },
     "execution_count": 7,
     "metadata": {},
     "output_type": "execute_result"
    }
   ],
   "source": [
    "filenames"
   ]
  },
  {
   "cell_type": "code",
   "execution_count": 8,
   "metadata": {},
   "outputs": [],
   "source": [
    "# if run_all:\n",
    "#     path_and_filenames = [path+n for n in filenames]\n",
    "\n",
    "#     nifti_masker = NiftiMasker(\n",
    "#         standardize=False,\n",
    "#         smoothing_fwhm=2, mask_strategy='epi',\n",
    "#         memory='nilearn_cache')  # cache options\n",
    "#     gm_maps_masked = nifti_masker.fit_transform(filenames)\n",
    "#     n_samples, n_features = gm_maps_masked.shape\n",
    "#     print(\"%d samples, %d features\" % (n_samples, n_features))"
   ]
  },
  {
   "cell_type": "code",
   "execution_count": 9,
   "metadata": {},
   "outputs": [
    {
     "name": "stderr",
     "output_type": "stream",
     "text": [
      "/usr/lib/python3.5/importlib/_bootstrap.py:222: RuntimeWarning: numpy.dtype size changed, may indicate binary incompatibility. Expected 96, got 88\n",
      "  return f(*args, **kwds)\n",
      "/usr/lib/python3.5/importlib/_bootstrap.py:222: RuntimeWarning: numpy.dtype size changed, may indicate binary incompatibility. Expected 96, got 88\n",
      "  return f(*args, **kwds)\n",
      "/usr/lib/python3.5/importlib/_bootstrap.py:222: RuntimeWarning: numpy.dtype size changed, may indicate binary incompatibility. Expected 96, got 88\n",
      "  return f(*args, **kwds)\n",
      "/usr/lib/python3.5/importlib/_bootstrap.py:222: RuntimeWarning: numpy.dtype size changed, may indicate binary incompatibility. Expected 96, got 88\n",
      "  return f(*args, **kwds)\n"
     ]
    }
   ],
   "source": [
    "from nilearn import datasets\n",
    "\n",
    "parcellations = datasets.fetch_atlas_basc_multiscale_2015(version='sym')\n",
    "\n",
    "# We show here networks of 64, 197, 444\n",
    "networks_64 = parcellations['scale064']\n",
    "networks_197 = parcellations['scale197']\n",
    "networks_444 = parcellations['scale444']"
   ]
  },
  {
   "cell_type": "code",
   "execution_count": 15,
   "metadata": {},
   "outputs": [],
   "source": [
    "from nilearn.input_data import NiftiLabelsMasker\n",
    "from nilearn.connectome import ConnectivityMeasure, sym_matrix_to_vec\n",
    "\n",
    "def func_2_corr_matrix(parcellation, name):\n",
    "    masker = NiftiLabelsMasker(labels_img=parcellation, standardize=True,\n",
    "                               memory='nilearn_cache', verbose=0)\n",
    "    #n_regions = 197\n",
    "    \n",
    "    correlations = []\n",
    "    upper_triang_corrs = []\n",
    "    # Initializing ConnectivityMeasure object with kind='correlation'\n",
    "    connectome_measure = ConnectivityMeasure(kind='correlation')\n",
    "    for filename in filenames:\n",
    "        timeseries_each_subject = masker.fit_transform(filename)\n",
    "        # call fit_transform from ConnectivityMeasure object\n",
    "        correlation = connectome_measure.fit_transform([timeseries_each_subject])\n",
    "        # saving each subject correlation to correlations\n",
    "        correlations.append(correlation)\n",
    "        # get the upper triangular correlation matrix of correlation\n",
    "        upper_triang_corr = sym_matrix_to_vec(correlation, discard_diagonal=True)\n",
    "        # saving each subject upper_triang_corr to upper_triang_corrs\n",
    "        upper_triang_corrs.append(upper_triang_corr) \n",
    "    #   Split train test sets and save\n",
    "    X_train = upper_triang_corrs[:84]\n",
    "    X_test = upper_triang_corrs[84:]\n",
    "    y_train = y_age[:84]\n",
    "    y_test = y_age[84:]\n",
    "    random_subj_train = subj[:84]\n",
    "    random_subj_test = subj[84:]\n",
    "    np.savez_compressed(output_dir+log_file+'NKI_func'+name+'_train_set',a=X_train, b=y_train, c=random_subj_train)\n",
    "    np.savez_compressed(output_dir+log_file+'NKI_func'+name+'_test_set',a=X_test, b=y_test, c=random_subj_test)\n",
    "    return correlations, upper_triang_corrs\n",
    "\n",
    "correlations197, upper_triang_corrs197 = func_2_corr_matrix(networks_197, '197')\n",
    "correlations444, upper_triang_corrs444 = func_2_corr_matrix(networks_444, '444')"
   ]
  },
  {
   "cell_type": "code",
   "execution_count": null,
   "metadata": {},
   "outputs": [],
   "source": [
    "if not run_all:\n",
    "    loaded = np.load(output_dir+'train_set.npz')\n",
    "    X_train, y_train, random_subj_train = loaded['a'], loaded['b'], loaded['c']"
   ]
  },
  {
   "cell_type": "code",
   "execution_count": 11,
   "metadata": {},
   "outputs": [],
   "source": [
    "loaded = np.load(output_dir+'train_set.npz')\n",
    "X_train, y_train, random_subj_train = loaded['a'], loaded['b'], loaded['c']"
   ]
  },
  {
   "cell_type": "code",
   "execution_count": null,
   "metadata": {},
   "outputs": [],
   "source": []
  }
 ],
 "metadata": {
  "kernelspec": {
   "display_name": "Python 3",
   "language": "python",
   "name": "python3"
  },
  "language_info": {
   "codemirror_mode": {
    "name": "ipython",
    "version": 3
   },
   "file_extension": ".py",
   "mimetype": "text/x-python",
   "name": "python",
   "nbconvert_exporter": "python",
   "pygments_lexer": "ipython3",
   "version": "3.6.5"
  }
 },
 "nbformat": 4,
 "nbformat_minor": 2
}
