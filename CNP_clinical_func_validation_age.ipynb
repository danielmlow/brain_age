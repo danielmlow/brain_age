{
 "cells": [
  {
   "cell_type": "markdown",
   "metadata": {},
   "source": [
    "# CNP_func_validation_age"
   ]
  },
  {
   "cell_type": "code",
   "execution_count": 1,
   "metadata": {},
   "outputs": [
    {
     "name": "stderr",
     "output_type": "stream",
     "text": [
      "/Library/Frameworks/Python.framework/Versions/3.6/lib/python3.6/importlib/_bootstrap.py:205: RuntimeWarning: numpy.dtype size changed, may indicate binary incompatibility. Expected 96, got 88\n",
      "  return f(*args, **kwds)\n",
      "/Library/Frameworks/Python.framework/Versions/3.6/lib/python3.6/site-packages/h5py/__init__.py:36: FutureWarning: Conversion of the second argument of issubdtype from `float` to `np.floating` is deprecated. In future, it will be treated as `np.float64 == np.dtype(float).type`.\n",
      "  from ._conv import register_converters as _register_converters\n"
     ]
    }
   ],
   "source": [
    "import pandas as pd\n",
    "import numpy as np\n",
    "import nibabel as nib\n",
    "from sklearn.svm import LinearSVR\n",
    "# from sklearn.linear_model import LinearRegression\n",
    "from sklearn.feature_selection import VarianceThreshold, SelectKBest, f_regression\n",
    "import os\n",
    "from sklearn.model_selection import train_test_split\n",
    "from sklearn.model_selection import GridSearchCV\n",
    "from sklearn.metrics import mean_absolute_error, r2_score\n",
    "from nilearn.input_data import NiftiMasker\n",
    "import random\n",
    "import matplotlib.pyplot as plt\n",
    "import datetime"
   ]
  },
  {
   "cell_type": "code",
   "execution_count": 2,
   "metadata": {
    "collapsed": true
   },
   "outputs": [],
   "source": [
    "# Config\n",
    "toy = False\n",
    "run_all = False\n",
    "\n",
    "\n",
    "\n",
    "#AWS cloud\n",
    "# path = '/home/ubuntu/fmriprep/'\n",
    "# output_dir = '/output/' \n",
    "\n",
    "#For Daniel's computer\n",
    "input_dir = 'data/CNP_clinical/func/'\n",
    "output_dir = 'data/CNP_clinical/func/'\n",
    "\n",
    "\n",
    "n_jobs = 20 #amount of cores\n",
    "cv=4\n",
    "\n",
    "parcellation = '197_'\n",
    "description = 'CNP_clinical_func_validation_age_'\n",
    "log_file = parcellation+description+datetime.datetime.now().strftime(\"%y-%m-%d-%H-%M-%S\")"
   ]
  },
  {
   "cell_type": "code",
   "execution_count": 3,
   "metadata": {
    "collapsed": true
   },
   "outputs": [],
   "source": [
    "# Load healthy control data\n",
    "input_dir = '/Users/danielmlow/Dropbox/neurohack/brain_age/data/CNP_func/'\n",
    "loaded = np.load(input_dir+'CNP_func_gridsearch_age_18-08-09-22-05-36CNP_func'+parcellation+'train_set.npz')\n",
    "X_train, y_train, random_subj_train = loaded['a'], loaded['b'], loaded['c']\n",
    "\n",
    "# Load clinical population\n",
    "input_dir = '/Users/danielmlow/Dropbox/neurohack/brain_age/data/CNP_clinical/func/'\n",
    "disorder = 'adhd_'\n",
    "# the clinical group was split 50-50 in validation (called \"train\") and test set (called \"test\")\n",
    "loaded = np.load(input_dir+'CNP_func_gridsearch_age_18-08-10-02-50-17CNP_func'+disorder+parcellation+'train_set.npz')\n",
    "X_validation_adhd, y_validation_adhd, random_subj_train_adhd = loaded['a'], loaded['b'], loaded['c']\n",
    "\n",
    "disorder = 'bipolar_'\n",
    "# the clinical group was split 50-50 in validation (called \"train\") and test set (called \"test\")\n",
    "loaded = np.load(input_dir+'CNP_func_gridsearch_age_18-08-10-02-50-17CNP_func'+disorder+parcellation+'train_set.npz')\n",
    "X_validation_bipolar, y_validation_bipolar, random_subj_train_bipolar = loaded['a'], loaded['b'], loaded['c']\n",
    "\n",
    "disorder = 'schz_'\n",
    "# the clinical group was split 50-50 in validation (called \"train\") and test set (called \"test\")\n",
    "loaded = np.load(input_dir+'CNP_func_gridsearch_age_18-08-10-02-50-17CNP_func'+disorder+parcellation+'train_set.npz')\n",
    "X_validation_schz, y_validation_schz, random_subj_train_schz = loaded['a'], loaded['b'], loaded['c']\n",
    "\n"
   ]
  },
  {
   "cell_type": "code",
   "execution_count": null,
   "metadata": {},
   "outputs": [],
   "source": []
  },
  {
   "cell_type": "code",
   "execution_count": 4,
   "metadata": {},
   "outputs": [
    {
     "name": "stdout",
     "output_type": "stream",
     "text": [
      "(84,)\n",
      "(84, 1, 19306)\n",
      "(84, 19306)\n"
     ]
    }
   ],
   "source": [
    "print(y_train.shape)\n",
    "print(X_train.shape)\n",
    "\n",
    "def reshape_3_to_2D(X):\n",
    "    return np.reshape(X, (X.shape[0], X.shape[2]))\n",
    "    \n",
    "# X_train = reshape_3_to_2D(X_train)\n",
    "\n",
    "X_train = reshape_3_to_2D(X_train)\n",
    "X_validation_adhd = reshape_3_to_2D(X_validation_adhd)\n",
    "X_validation_bipolar = reshape_3_to_2D(X_validation_bipolar)\n",
    "X_validation_schz = reshape_3_to_2D(X_validation_schz)\n",
    "\n",
    "\n",
    "\n",
    "\n",
    "print(X_train.shape)"
   ]
  },
  {
   "cell_type": "code",
   "execution_count": 5,
   "metadata": {},
   "outputs": [
    {
     "data": {
      "text/plain": [
       "(84, 19306)"
      ]
     },
     "execution_count": 5,
     "metadata": {},
     "output_type": "execute_result"
    }
   ],
   "source": [
    "X_train.shape"
   ]
  },
  {
   "cell_type": "code",
   "execution_count": 6,
   "metadata": {
    "collapsed": true
   },
   "outputs": [],
   "source": [
    "X_train, X_validation, y_train, y_validation = train_test_split(X_train, y_train, test_size=0.30, random_state=42)"
   ]
  },
  {
   "cell_type": "markdown",
   "metadata": {},
   "source": [
    "## Validation \n",
    "\n",
    "Here we take the validation set of the clinical population and \"diagnose\" their brain age. \n"
   ]
  },
  {
   "cell_type": "code",
   "execution_count": 7,
   "metadata": {},
   "outputs": [
    {
     "data": {
      "text/plain": [
       "Pipeline(memory=None,\n",
       "     steps=[('svr', LinearSVR(C=1.0, dual=True, epsilon=0.0, fit_intercept=True,\n",
       "     intercept_scaling=1.0, loss='epsilon_insensitive', max_iter=1000,\n",
       "     random_state=None, tol=0.0001, verbose=0))])"
      ]
     },
     "execution_count": 7,
     "metadata": {},
     "output_type": "execute_result"
    }
   ],
   "source": [
    "from sklearn.pipeline import Pipeline\n",
    "\n",
    "if toy:\n",
    "    X_train = X_train[:8]\n",
    "    y_train = y_train[:8]\n",
    "    X_validation = X_validation[:8]\n",
    "    y_validation = y_validation[:8]\n",
    "\n",
    "\n",
    "# Remove features with too low between-subject variance\n",
    "# Here we use a classical univariate feature selection based on F-test,\n",
    "# namely Anova.\n",
    "# We have our predictor (SVR), our feature selection (SelectKBest), and now,\n",
    "# we can plug them together in a *pipeline* that performs the two operations\n",
    "# successively:\n",
    "               \n",
    "anova_svr = Pipeline([('svr', LinearSVR(C=1.))])\n",
    "\n",
    "# parameters = [{'anova__k': [2000],\n",
    "#                'svr__C': [0.1,1]}]\n",
    "\n",
    "\n",
    "anova_svr.fit(X_train, y_train)\n",
    "\n",
    "# clf = SVR(kernel='linear', C=0.01)\n",
    "# clf.fit(X_train, y_train)\n",
    "# predictions = clf.predict(X_validation)\n",
    "\n",
    "\n",
    "\n",
    "\n",
    "# r2 = r2_score(y_validation, predictions)\n",
    "# mean_scores = np.array(grid.cv_results_['neg_mean_absolute_error'])\n",
    "# mean_scores = mean_scores.reshape(len(C_OPTIONS), -1, len(N_FEATURES_OPTIONS))\n",
    "# # select score for best C\n",
    "# mean_scores = mean_scores.max(axis=0)\n",
    "# bar_offsets = (np.arange(len(N_FEATURES_OPTIONS)) *\n",
    "#                (len(reducer_labels) + 1) + .5)\n",
    "\n",
    "\n",
    "\n",
    "\n",
    "\n"
   ]
  },
  {
   "cell_type": "code",
   "execution_count": 15,
   "metadata": {},
   "outputs": [
    {
     "data": {
      "text/plain": [
       "(25, 19306)"
      ]
     },
     "execution_count": 15,
     "metadata": {},
     "output_type": "execute_result"
    }
   ],
   "source": []
  },
  {
   "cell_type": "code",
   "execution_count": 8,
   "metadata": {},
   "outputs": [
    {
     "name": "stdout",
     "output_type": "stream",
     "text": [
      "healthy:  -0.06 8.26\n",
      "adhd:  -2.133288553392293 9.15\n",
      "bipolar:  -4.183288553392294 10.12\n",
      "schz:  -8.733288553392292 8.96 8.96\n",
      "mean age:\n",
      "31.32758620689655\n",
      "32.4\n",
      "35.375\n",
      "38.64\n"
     ]
    }
   ],
   "source": [
    "def mean_error(predictions, true_ages):\n",
    "    errors = []\n",
    "    for pred, true in zip(predictions, true_ages):\n",
    "        errors.append(pred-true)\n",
    "    return np.mean(errors), np.std(errors)\n",
    "    \n",
    "\n",
    "'''\n",
    "pred true\n",
    "40    45   -5 brain age is five years younger that true age\n",
    "30    25   5\n",
    "'''\n",
    "\n",
    "\n",
    "predictions_healthy = anova_svr.predict(X_validation)\n",
    "\n",
    "predictions_adhd = anova_svr.predict(X_validation_adhd)\n",
    "\n",
    "\n",
    "predictions_bipolar = anova_svr.predict(X_validation_bipolar)\n",
    "\n",
    "\n",
    "predictions_schz = anova_svr.predict(X_validation_schz)\n",
    "\n",
    "\n",
    "\n",
    "\n",
    "mean_error_healthy, std_healthy = mean_error(predictions_healthy, y_validation)\n",
    "mean_error_adhd, std_adhd = mean_error(predictions_adhd, y_validation_adhd)\n",
    "mean_error_bipolar, std_bipolar = mean_error(predictions_adhd, y_validation_bipolar)\n",
    "mean_error_schz, std_schz = mean_error(predictions_adhd, y_validation_schz)\n",
    "print('healthy: ', mean_error_healthy.round(2),std_healthy.round(2))\n",
    "print('adhd: ', mean_error_adhd, std_adhd.round(2))\n",
    "print('bipolar: ', mean_error_bipolar, std_bipolar.round(2))\n",
    "print('schz: ', mean_error_schz, std_schz.round(2), std_schz.round(2))\n",
    "\n",
    "print('mean age:')\n",
    "print(np.mean(y_train))\n",
    "print(np.mean(y_validation_adhd))\n",
    "print(np.mean(y_validation_bipolar))\n",
    "print(np.mean(y_validation_schz))"
   ]
  },
  {
   "cell_type": "code",
   "execution_count": 9,
   "metadata": {},
   "outputs": [
    {
     "name": "stdout",
     "output_type": "stream",
     "text": [
      "adhd:  -2.133288553392293\n",
      "bipolar:  -4.183288553392294\n",
      "schz:  -8.733288553392292\n"
     ]
    }
   ],
   "source": [
    "\n",
    "# Diagnose brain age\n",
    "\n",
    "\n",
    "print('adhd: ', mean_error_adhd)\n",
    "print('bipolar: ', mean_error_bipolar)\n",
    "print('schz: ', mean_error_schz)\n"
   ]
  },
  {
   "cell_type": "code",
   "execution_count": 10,
   "metadata": {},
   "outputs": [
    {
     "ename": "TypeError",
     "evalue": "str() argument 2 must be str, not numpy.float64",
     "output_type": "error",
     "traceback": [
      "\u001b[0;31m---------------------------------------------------------------------------\u001b[0m",
      "\u001b[0;31mTypeError\u001b[0m                                 Traceback (most recent call last)",
      "\u001b[0;32m<ipython-input-10-ccc09fba8e50>\u001b[0m in \u001b[0;36m<module>\u001b[0;34m()\u001b[0m\n\u001b[1;32m      2\u001b[0m \u001b[0;34m\u001b[0m\u001b[0m\n\u001b[1;32m      3\u001b[0m \u001b[0;32mwith\u001b[0m \u001b[0mopen\u001b[0m\u001b[0;34m(\u001b[0m\u001b[0moutput_dir\u001b[0m\u001b[0;34m+\u001b[0m\u001b[0;34m'log_'\u001b[0m\u001b[0;34m+\u001b[0m\u001b[0mlog_file\u001b[0m\u001b[0;34m+\u001b[0m\u001b[0;34m'.txt'\u001b[0m\u001b[0;34m,\u001b[0m \u001b[0;34m'+a'\u001b[0m\u001b[0;34m)\u001b[0m \u001b[0;32mas\u001b[0m \u001b[0mf\u001b[0m\u001b[0;34m:\u001b[0m\u001b[0;34m\u001b[0m\u001b[0m\n\u001b[0;32m----> 4\u001b[0;31m     \u001b[0mf\u001b[0m\u001b[0;34m.\u001b[0m\u001b[0mwrite\u001b[0m\u001b[0;34m(\u001b[0m\u001b[0mstr\u001b[0m\u001b[0;34m(\u001b[0m\u001b[0;34m'healthy: '\u001b[0m\u001b[0;34m)\u001b[0m\u001b[0;34m+\u001b[0m\u001b[0mstr\u001b[0m\u001b[0;34m(\u001b[0m \u001b[0mmean_error_healthy\u001b[0m\u001b[0;34m.\u001b[0m\u001b[0mround\u001b[0m\u001b[0;34m(\u001b[0m\u001b[0;36m2\u001b[0m\u001b[0;34m)\u001b[0m\u001b[0;34m,\u001b[0m\u001b[0mstd_healthy\u001b[0m\u001b[0;34m.\u001b[0m\u001b[0mround\u001b[0m\u001b[0;34m(\u001b[0m\u001b[0;36m2\u001b[0m\u001b[0;34m)\u001b[0m\u001b[0;34m)\u001b[0m\u001b[0;34m)\u001b[0m\u001b[0;34m\u001b[0m\u001b[0m\n\u001b[0m\u001b[1;32m      5\u001b[0m     \u001b[0mf\u001b[0m\u001b[0;34m.\u001b[0m\u001b[0mwrite\u001b[0m\u001b[0;34m(\u001b[0m\u001b[0mstr\u001b[0m\u001b[0;34m(\u001b[0m\u001b[0;34m'adhd: '\u001b[0m\u001b[0;34m)\u001b[0m\u001b[0;34m+\u001b[0m\u001b[0mstr\u001b[0m\u001b[0;34m(\u001b[0m\u001b[0mmean_error_adhd\u001b[0m\u001b[0;34m,\u001b[0m \u001b[0mstd_adhd\u001b[0m\u001b[0;34m.\u001b[0m\u001b[0mround\u001b[0m\u001b[0;34m(\u001b[0m\u001b[0;36m2\u001b[0m\u001b[0;34m)\u001b[0m\u001b[0;34m)\u001b[0m\u001b[0;34m)\u001b[0m\u001b[0;34m\u001b[0m\u001b[0m\n\u001b[1;32m      6\u001b[0m     \u001b[0mf\u001b[0m\u001b[0;34m.\u001b[0m\u001b[0mwrite\u001b[0m\u001b[0;34m(\u001b[0m\u001b[0;34m'bipolar: '\u001b[0m\u001b[0;34m+\u001b[0m\u001b[0mstr\u001b[0m\u001b[0;34m(\u001b[0m\u001b[0mmean_error_bipolar\u001b[0m\u001b[0;34m,\u001b[0m \u001b[0mstd_bipolar\u001b[0m\u001b[0;34m.\u001b[0m\u001b[0mround\u001b[0m\u001b[0;34m(\u001b[0m\u001b[0;36m2\u001b[0m\u001b[0;34m)\u001b[0m\u001b[0;34m)\u001b[0m\u001b[0;34m)\u001b[0m\u001b[0;34m\u001b[0m\u001b[0m\n",
      "\u001b[0;31mTypeError\u001b[0m: str() argument 2 must be str, not numpy.float64"
     ]
    }
   ],
   "source": [
    "\n",
    "\n",
    "with open(output_dir+'log_'+log_file+'.txt', '+a') as f:\n",
    "    f.write(str('healthy: ')+str( mean_error_healthy.round(2),std_healthy.round(2)))\n",
    "    f.write(str('adhd: ')+str(mean_error_adhd, std_adhd.round(2)))\n",
    "    f.write('bipolar: '+str(mean_error_bipolar, std_bipolar.round(2)))\n",
    "    f.write(str('schz: ')+str( mean_error_schz, std_schz.round(2), std_schz.round(2)))\n",
    "    f.write(str('mean age:'))\n",
    "    f.write(str(np.mean(y_train)))\n",
    "    f.write(str(np.mean(y_validation_adhd)))\n",
    "    f.write(str(np.mean(y_validation_bipolar)))\n",
    "    f.write(str(np.mean(y_validation_schz)))"
   ]
  },
  {
   "cell_type": "code",
   "execution_count": null,
   "metadata": {},
   "outputs": [],
   "source": [
    "output_dir+'log_'+log_file+'.txt'"
   ]
  },
  {
   "cell_type": "code",
   "execution_count": null,
   "metadata": {
    "collapsed": true
   },
   "outputs": [],
   "source": [
    "# age_pred = grid.predict(gm_maps_masked)\n",
    "# np.mean(np.abs(age_pred-y_age))\n",
    "# y_age"
   ]
  },
  {
   "cell_type": "code",
   "execution_count": null,
   "metadata": {
    "collapsed": true
   },
   "outputs": [],
   "source": [
    "# r2 score"
   ]
  }
 ],
 "metadata": {
  "kernelspec": {
   "display_name": "Python 3",
   "language": "python",
   "name": "python3"
  },
  "language_info": {
   "codemirror_mode": {
    "name": "ipython",
    "version": 3
   },
   "file_extension": ".py",
   "mimetype": "text/x-python",
   "name": "python",
   "nbconvert_exporter": "python",
   "pygments_lexer": "ipython3",
   "version": "3.6.0"
  }
 },
 "nbformat": 4,
 "nbformat_minor": 2
}
