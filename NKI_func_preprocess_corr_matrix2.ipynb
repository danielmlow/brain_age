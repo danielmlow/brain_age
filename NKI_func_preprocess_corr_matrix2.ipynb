{
 "cells": [
  {
   "cell_type": "code",
   "execution_count": 1,
   "metadata": {},
   "outputs": [
    {
     "name": "stderr",
     "output_type": "stream",
     "text": [
      "/usr/lib/python3.5/importlib/_bootstrap.py:222: RuntimeWarning: numpy.dtype size changed, may indicate binary incompatibility. Expected 96, got 88\n",
      "  return f(*args, **kwds)\n",
      "/usr/lib/python3.5/importlib/_bootstrap.py:222: RuntimeWarning: numpy.dtype size changed, may indicate binary incompatibility. Expected 96, got 88\n",
      "  return f(*args, **kwds)\n"
     ]
    }
   ],
   "source": [
    "import pandas as pd\n",
    "import numpy as np\n",
    "import nibabel as nib\n",
    "import datetime\n",
    "import os"
   ]
  },
  {
   "cell_type": "code",
   "execution_count": 2,
   "metadata": {},
   "outputs": [],
   "source": [
    "# Parameters\n",
    "toy = False\n",
    "run_all = True\n",
    "path = '/home/ubuntu/NKI/'\n",
    "output_dir = '/home/ubuntu/output/'\n",
    "input_dir = '/home/ubuntu/subj_info/'\n",
    "\n",
    "n_jobs = 20 #amount of cores\n",
    "cv=4\n",
    "description = 'NKI_func_gridsearch_age_'\n",
    "log_file = description+datetime.datetime.now().strftime(\"%y-%m-%d-%H-%M-%S\")"
   ]
  },
  {
   "cell_type": "code",
   "execution_count": 3,
   "metadata": {},
   "outputs": [
    {
     "data": {
      "text/plain": [
       "'NKI_func_gridsearch_age_18-08-10-19-07-24'"
      ]
     },
     "execution_count": 3,
     "metadata": {},
     "output_type": "execute_result"
    }
   ],
   "source": [
    "log_file"
   ]
  },
  {
   "cell_type": "code",
   "execution_count": null,
   "metadata": {},
   "outputs": [],
   "source": [
    "#len(subj)"
   ]
  },
  {
   "cell_type": "code",
   "execution_count": 5,
   "metadata": {},
   "outputs": [],
   "source": [
    "# Load subj ids & ages\n",
    "subj_info = pd.read_csv('/home/ubuntu/subj_info/subjnames_ages_final.csv')\n",
    "#subj_subset = pd.read_csv('/home/ubuntu/subj_info/subjnames.csv')\n",
    "#subj_ages = pd.read_csv('/home/ubuntu/subj_info/NKI_ages.csv')\n",
    "subj = subj_info.iloc[:,0]\n",
    "subj = subj.values.tolist()\n",
    "y_age = subj_info.iloc[:,1]"
   ]
  },
  {
   "cell_type": "code",
   "execution_count": 6,
   "metadata": {},
   "outputs": [
    {
     "data": {
      "text/plain": [
       "192"
      ]
     },
     "execution_count": 6,
     "metadata": {},
     "output_type": "execute_result"
    }
   ],
   "source": [
    "len(y_age)"
   ]
  },
  {
   "cell_type": "code",
   "execution_count": 7,
   "metadata": {},
   "outputs": [
    {
     "data": {
      "text/plain": [
       "192"
      ]
     },
     "execution_count": 7,
     "metadata": {},
     "output_type": "execute_result"
    }
   ],
   "source": [
    "len(subj)"
   ]
  },
  {
   "cell_type": "code",
   "execution_count": 8,
   "metadata": {},
   "outputs": [],
   "source": [
    "# Load volumes for each subject into a dictionary    \n",
    "if run_all:\n",
    "    filenames = []\n",
    "    for i in range(len(subj)):\n",
    "        subj[i] = str(subj[i])\n",
    "        #filenames.append(path+'sub-'+subj[i]+'/func/sub-'+subj[i]+'_task-rest_bold_space-MNI152NLin2009cAsym_preproc.nii.gz')\n",
    "        filenames.append(path+subj[i]+'/session_1/BOLDrestingCAP_1/wraBOLDrestingCAP.nii.gz')\n",
    "    #cofounds = []\n",
    "    #for i in range(len(subj)):\n",
    "        #cofounds.append(path+'sub-'+subj[i]+'/func/sub-'+subj[i]+'_task-rest_bold_confounds.tsv')\n",
    "\n"
   ]
  },
  {
   "cell_type": "code",
   "execution_count": null,
   "metadata": {},
   "outputs": [],
   "source": [
    "#filenames"
   ]
  },
  {
   "cell_type": "code",
   "execution_count": 9,
   "metadata": {},
   "outputs": [
    {
     "name": "stderr",
     "output_type": "stream",
     "text": [
      "/usr/lib/python3.5/importlib/_bootstrap.py:222: RuntimeWarning: numpy.dtype size changed, may indicate binary incompatibility. Expected 96, got 88\n",
      "  return f(*args, **kwds)\n",
      "/usr/lib/python3.5/importlib/_bootstrap.py:222: RuntimeWarning: numpy.dtype size changed, may indicate binary incompatibility. Expected 96, got 88\n",
      "  return f(*args, **kwds)\n",
      "/usr/lib/python3.5/importlib/_bootstrap.py:222: RuntimeWarning: numpy.dtype size changed, may indicate binary incompatibility. Expected 96, got 88\n",
      "  return f(*args, **kwds)\n",
      "/usr/lib/python3.5/importlib/_bootstrap.py:222: RuntimeWarning: numpy.dtype size changed, may indicate binary incompatibility. Expected 96, got 88\n",
      "  return f(*args, **kwds)\n"
     ]
    }
   ],
   "source": [
    "from nilearn import datasets\n",
    "\n",
    "parcellations = datasets.fetch_atlas_basc_multiscale_2015(version='sym')\n",
    "\n",
    "# We show here networks of 64, 197, 444\n",
    "networks_64 = parcellations['scale064']\n",
    "networks_197 = parcellations['scale197']\n",
    "networks_444 = parcellations['scale444']"
   ]
  },
  {
   "cell_type": "code",
   "execution_count": null,
   "metadata": {},
   "outputs": [
    {
     "name": "stderr",
     "output_type": "stream",
     "text": [
      "/usr/lib/python3.5/importlib/_bootstrap.py:222: RuntimeWarning: numpy.dtype size changed, may indicate binary incompatibility. Expected 96, got 88\n",
      "  return f(*args, **kwds)\n",
      "/usr/lib/python3.5/importlib/_bootstrap.py:222: RuntimeWarning: numpy.dtype size changed, may indicate binary incompatibility. Expected 96, got 88\n",
      "  return f(*args, **kwds)\n"
     ]
    }
   ],
   "source": [
    "from nilearn.input_data import NiftiLabelsMasker\n",
    "from nilearn.connectome import ConnectivityMeasure, sym_matrix_to_vec\n",
    "\n",
    "def func_2_corr_matrix(parcellation, name):\n",
    "    masker = NiftiLabelsMasker(labels_img=parcellation, standardize=True,\n",
    "                               memory='nilearn_cache', verbose=0)\n",
    "    #n_regions = 197\n",
    "    \n",
    "    correlations = []\n",
    "    upper_triang_corrs = []\n",
    "    # Initializing ConnectivityMeasure object with kind='correlation'\n",
    "    connectome_measure = ConnectivityMeasure(kind='correlation')\n",
    "    for filename in filenames:\n",
    "        timeseries_each_subject = masker.fit_transform(filename)\n",
    "        # call fit_transform from ConnectivityMeasure object\n",
    "        correlation = connectome_measure.fit_transform([timeseries_each_subject])\n",
    "        # saving each subject correlation to correlations\n",
    "        correlations.append(correlation)\n",
    "        # get the upper triangular correlation matrix of correlation\n",
    "        upper_triang_corr = sym_matrix_to_vec(correlation, discard_diagonal=True)\n",
    "        # saving each subject upper_triang_corr to upper_triang_corrs\n",
    "        upper_triang_corrs.append(upper_triang_corr) \n",
    "    #   Split train test sets and save\n",
    "    X_train = upper_triang_corrs[:84]\n",
    "    X_test = upper_triang_corrs[84:]\n",
    "    y_train = y_age[:84]\n",
    "    y_test = y_age[84:]\n",
    "    random_subj_train = subj[:84]\n",
    "    random_subj_test = subj[84:]\n",
    "    np.savez_compressed(output_dir+log_file+'NKI_func'+name+'_train_set',a=X_train, b=y_train, c=random_subj_train)\n",
    "    np.savez_compressed(output_dir+log_file+'NKI_func'+name+'_test_set',a=X_test, b=y_test, c=random_subj_test)\n",
    "    return correlations, upper_triang_corrs\n",
    "\n",
    "correlations197, upper_triang_corrs197 = func_2_corr_matrix(networks_197, '197')\n",
    "correlations444, upper_triang_corrs444 = func_2_corr_matrix(networks_444, '444')"
   ]
  },
  {
   "cell_type": "code",
   "execution_count": null,
   "metadata": {},
   "outputs": [],
   "source": [
    "if not run_all:\n",
    "    loaded = np.load(output_dir+'train_set.npz')\n",
    "    X_train, y_train, random_subj_train = loaded['a'], loaded['b'], loaded['c']"
   ]
  },
  {
   "cell_type": "code",
   "execution_count": null,
   "metadata": {},
   "outputs": [],
   "source": [
    "loaded = np.load(output_dir+'train_set.npz')\n",
    "X_train, y_train, random_subj_train = loaded['a'], loaded['b'], loaded['c']"
   ]
  },
  {
   "cell_type": "code",
   "execution_count": null,
   "metadata": {},
   "outputs": [],
   "source": []
  }
 ],
 "metadata": {
  "kernelspec": {
   "display_name": "Python 3",
   "language": "python",
   "name": "python3"
  },
  "language_info": {
   "codemirror_mode": {
    "name": "ipython",
    "version": 3
   },
   "file_extension": ".py",
   "mimetype": "text/x-python",
   "name": "python",
   "nbconvert_exporter": "python",
   "pygments_lexer": "ipython3",
   "version": "3.5.2"
  }
 },
 "nbformat": 4,
 "nbformat_minor": 2
}
